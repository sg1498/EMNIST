{
  "nbformat": 4,
  "nbformat_minor": 0,
  "metadata": {
    "colab": {
      "name": "Copy of Untitled8.ipynb",
      "version": "0.3.2",
      "provenance": [],
      "collapsed_sections": []
    },
    "kernelspec": {
      "name": "python3",
      "display_name": "Python 3"
    },
    "accelerator": "GPU"
  },
  "cells": [
    {
      "metadata": {
        "colab_type": "code",
        "id": "8fjPYI_ztcDg",
        "outputId": "3d49c75b-ed6f-4174-f1d1-880207a36917",
        "colab": {
          "base_uri": "https://localhost:8080/",
          "height": 201
        }
      },
      "cell_type": "code",
      "source": [
        "! pip install python-mnist\n",
        "import numpy as np\n",
        "import matplotlib.pyplot as plt\n",
        "from mnist import MNIST\n",
        "import pandas as pd\n",
        "\n",
        "! pip install python-mnist\n",
        "\n",
        "from mnist import MNIST\n",
        "emnist=MNIST('sample_data')"
      ],
      "execution_count": 5,
      "outputs": [
        {
          "output_type": "stream",
          "text": [
            "Collecting python-mnist\n",
            "  Downloading https://files.pythonhosted.org/packages/05/9c/f1c1e4d011b01ac436bba0ac6715b3f988bb7f8fec6f21f89cf820aa33e1/python-mnist-0.6.tar.gz\n",
            "Building wheels for collected packages: python-mnist\n",
            "  Building wheel for python-mnist (setup.py) ... \u001b[?25ldone\n",
            "\u001b[?25h  Stored in directory: /root/.cache/pip/wheels/28/29/36/408f83545a511c43d03ef997a1dc99b49ccd5f9f306ed92468\n",
            "Successfully built python-mnist\n",
            "Installing collected packages: python-mnist\n",
            "Successfully installed python-mnist-0.6\n",
            "Requirement already satisfied: python-mnist in /usr/local/lib/python3.6/dist-packages (0.6)\n"
          ],
          "name": "stdout"
        }
      ]
    },
    {
      "metadata": {
        "colab_type": "code",
        "id": "lDxjE9PbtcAc",
        "outputId": "e7d35541-0d54-4f38-d770-5d4036213f28",
        "colab": {
          "base_uri": "https://localhost:8080/",
          "height": 126
        }
      },
      "cell_type": "code",
      "source": [
        "images, labels = emnist.load_training()\n",
        "print('f')\n",
        "\n",
        "testIM, testLabel=emnist.load_testing()\n",
        "print('k')\n",
        "\n",
        "n_images=np.array(images)\n",
        "p=np.shape(n_images)\n",
        "print('Shape of Training Images')\n",
        "print(p)\n",
        "\n",
        "n_labels=np.array(labels)\n",
        "x=np.shape(n_labels)\n",
        "print('Shape of Training Labels')\n",
        "print(x)\n"
      ],
      "execution_count": 6,
      "outputs": [
        {
          "output_type": "stream",
          "text": [
            "f\n",
            "k\n",
            "Shape of Training Images\n",
            "(112800, 784)\n",
            "Shape of Training Labels\n",
            "(112800,)\n"
          ],
          "name": "stdout"
        }
      ]
    },
    {
      "metadata": {
        "colab_type": "code",
        "id": "79NMmS2ktb1L",
        "outputId": "ee6f406a-2a06-42fb-824d-4a6d4fbf0dbb",
        "colab": {
          "base_uri": "https://localhost:8080/",
          "height": 841
        }
      },
      "cell_type": "code",
      "source": [
        "import numpy as np\n",
        "n_testIM=np.array(testIM)\n",
        "p1=np.shape(n_testIM)\n",
        "print('Shape of Testing Images')\n",
        "print(p1)\n",
        "n_testLabel=np.array(testLabel)\n",
        "p2=np.shape(n_testLabel)\n",
        "print('Shape of Testing Labels')\n",
        "print(p2)\n",
        "\n",
        "print('Reshaped Image')\n",
        "display_1=np.array(n_images[10000]).reshape(28,28)\n",
        "plt.imshow(display_1)\n",
        "plt.show()\n",
        "\n",
        "print('Grey Scale Image')\n",
        "display_2=np.array(n_images[10000]).reshape(28,28)\n",
        "plt.imshow(display_2, cmap='gist_gray')\n",
        "plt.show()\n",
        "\n",
        "#pixel Value <=255\n",
        "#Column value <=784\n",
        "print('Pixel Value Of Training Image')\n",
        "print(n_images[2][675])\n",
        "print(n_images[10][435])\n"
      ],
      "execution_count": 7,
      "outputs": [
        {
          "output_type": "stream",
          "text": [
            "Shape of Testing Images\n",
            "(18800, 784)\n",
            "Shape of Testing Labels\n",
            "(18800,)\n",
            "Reshaped Image\n"
          ],
          "name": "stdout"
        },
        {
          "output_type": "display_data",
          "data": {
            "image/png": "[encoded data removed]",
            "text/plain": [
              "<Figure size 576x396 with 1 Axes>"
            ]
          },
          "metadata": {
            "tags": []
          }
        },
        {
          "output_type": "stream",
          "text": [
            "Grey Scale Image\n"
          ],
          "name": "stdout"
        },
        {
          "output_type": "display_data",
          "data": {
            "image/png": "[encoded data removed]",
            "text/plain": [
              "<Figure size 576x396 with 1 Axes>"
            ]
          },
          "metadata": {
            "tags": []
          }
        },
        {
          "output_type": "stream",
          "text": [
            "Pixel Value Of Training Image\n",
            "0\n",
            "95\n"
          ],
          "name": "stdout"
        }
      ]
    },
    {
      "metadata": {
        "colab_type": "code",
        "id": "yL-0Pcy3tj1R",
        "outputId": "b4953de4-a355-4a1e-d139-455e1684f9b8",
        "colab": {
          "base_uri": "https://localhost:8080/",
          "height": 982
        }
      },
      "cell_type": "code",
      "source": [
        "#Scaling between 0 and 1 usinf MinMax Scaler\n",
        "from sklearn.preprocessing import MinMaxScaler\n",
        "scaler=MinMaxScaler()\n",
        "scaler.fit(n_images)\n",
        "train_images=scaler.transform(n_images)\n",
        "scaler.fit(testIM)\n",
        "test_images=scaler.transform(testIM)\n",
        "\n",
        "print('Scaled Value of Training Image')\n",
        "print(train_images[2][675])\n",
        "print(train_images[10][435])\n",
        "\n",
        "print('Pixel Value Of Testing Image')\n",
        "print(n_testIM[2][675])\n",
        "print(n_testIM[10][435])\n",
        "print(n_testIM[10])\n"
      ],
      "execution_count": 8,
      "outputs": [
        {
          "output_type": "stream",
          "text": [
            "/usr/local/lib/python3.6/dist-packages/sklearn/utils/validation.py:595: DataConversionWarning: Data with input dtype int64 was converted to float64 by MinMaxScaler.\n",
            "  warnings.warn(msg, DataConversionWarning)\n"
          ],
          "name": "stderr"
        },
        {
          "output_type": "stream",
          "text": [
            "Scaled Value of Training Image\n",
            "0.0\n",
            "0.37254901960784315\n",
            "Pixel Value Of Testing Image\n",
            "0\n",
            "127\n",
            "[  0   0   0   0   0   0   0   0   0   0   0   0   0   0   0   0   0   0\n",
            "   0   0   0   0   0   0   0   0   0   0   0   0   0   0   0   0   0   0\n",
            "   0   0   0   0   0   0   0   0   0   0   0   0   0   0   0   0   0   0\n",
            "   0   0   0   0   0   0   0   0   0   0   0   0   0   0   0   0   0   0\n",
            "   0   0   8  37  32   4   0   0   0   0   0   0   0   0   0   0   0   0\n",
            "   0   0   0   0   0   0   0   0   0   7  38  84 208 249 245 204  83  22\n",
            "   0   0   0   0   0   0   0   0   0   0   0   0   0   0   0   0   0   4\n",
            "   9  95 216 233 254 254 254 254 232 159   8   0   0   0   0   0   0   0\n",
            "   0   0   0   0   0   0   0   4  91 215 222 251 254 254 245 217 217 233\n",
            " 254 253 115   0   0   0   0   0   0   0   0   0   0   0   0   3  91 202\n",
            " 247 254 252 249 208 127  34   5   4  24 209 254 208   8   0   0   0   0\n",
            "   0   0   0   0   0   0   1  79 221 253 254 244 177 125  46   8   0   0\n",
            "   0   0 140 250 245  34   0   0   0   0   0   0   0   0   0  33 127 246\n",
            " 254 246 139  46   7   0   0   0   0   0   0   0  82 233 254 114   4   0\n",
            "   0   0   0   0   0   1  79 221 253 251 144  77   1  20  32   1   0   0\n",
            "   0   0   0   0  37 215 254 127   4   0   0   0   0   0   1  35 218 254\n",
            " 253 206  24   2   2 151 199  20   0   0   0   0   0   0  21 172 254 127\n",
            "   4   0   0   0   0   1  91 219 254 209 126  10   0   0   0 140 246  37\n",
            "   0   0   0   0   0   0   4 127 254 127   4   0   0   0   0  47 244 254\n",
            " 220  32  33  37  18   0   0 127 246  51   0   0   0   0   0   0   4 127\n",
            " 254 139   8   0   0   0   8 164 254 254 138 128 203 217 108   3   0 127\n",
            " 249 114   0   0   0   0   0   0   4 127 254 172  21   0   0   4 115 253\n",
            " 254 254 229 253 254 251 113   4   0 127 250 127   0   0   0   0   0   0\n",
            "   5 129 254 214  36   0   0  21 172 254 255 254 254 252 245 171  32   0\n",
            "   0 129 250 127   0   0   0   0   0   0  24 173 254 172  21   0   0  21\n",
            " 170 254 254 254 220  84  34   3   0   0   4 203 253 127   0   0   4  22\n",
            "  82 129 209 249 252  82   2   0   0   0  32 125 127 114  22   0   0   0\n",
            "   0   0   4 217 254 191 127 140 215 233 251 254 254 254 218  20   0   0\n",
            "   0   0   0   4   4   4   0   0   0   0   0   0   4 217 254 252 250 250\n",
            " 254 254 254 255 254 245  91   1   0   0   0   0   0   0   0   0   0   0\n",
            "   0   0   0   0   4 217 254 252 245 222 205 222 253 251 207  90   1   0\n",
            "   0   0   0   0   0   0   0   0   0   0   0   0   0   0   4 215 254 159\n",
            "  33   9   4  33 113  82   8   0   0   0   0   0   0   0   0   0   0   0\n",
            "   0   0   0   0   0   0   3 185 253 208   9   0   0   0   4   2   0   0\n",
            "   0   0   0   0   0   0   0   0   0   0   0   0   0   0   0   0   4 215\n",
            " 254 244  32   0   0   0   0   0   0   0   0   0   0   0   0   0   0   0\n",
            "   0   0   0   0   0   0   0   0   9 222 254 171   3   0   0   0   0   0\n",
            "   0   0   0   0   0   0   0   0   0   0   0   0   0   0   0   0   0   0\n",
            "  32 244 252  84   0   0   0   0   0   0   0   0   0   0   0   0   0   0\n",
            "   0   0   0   0   0   0   0   0   0   0   7 113 125  18   0   0   0   0\n",
            "   0   0   0   0   0   0   0   0   0   0   0   0   0   0   0   0   0   0\n",
            "   0   0   0   0   0   0   0   0   0   0   0   0   0   0   0   0   0   0\n",
            "   0   0   0   0   0   0   0   0   0   0   0   0   0   0   0   0   0   0\n",
            "   0   0   0   0   0   0   0   0   0   0]\n"
          ],
          "name": "stdout"
        }
      ]
    },
    {
      "metadata": {
        "id": "YCMVFto5xu6j",
        "colab_type": "code",
        "colab": {},
        "outputId": "a1020daf-6434-4a99-bce5-1c215402d263"
      },
      "cell_type": "code",
      "source": [
        "%store n_images\n",
        "%store n_labels\n",
        "%store n_testIM\n",
        "%store n_testLabel"
      ],
      "execution_count": 0,
      "outputs": [
        {
          "output_type": "stream",
          "text": [
            "Stored 'n_images' (ndarray)\n",
            "Stored 'n_labels' (ndarray)\n",
            "Stored 'n_testIM' (ndarray)\n",
            "Stored 'n_testLabel' (ndarray)\n"
          ],
          "name": "stdout"
        }
      ]
    },
    {
      "metadata": {
        "colab_type": "code",
        "id": "RCQsI213tjqI",
        "outputId": "0856c160-98a0-4251-eaef-d41bd28804d2",
        "colab": {
          "base_uri": "https://localhost:8080/",
          "height": 201
        }
      },
      "cell_type": "code",
      "source": [
        "#Converting categorical Data into Binary vectors\n",
        "#Rows=112,800 Columns=47\n",
        "re_shape=n_labels.reshape(-1,1)\n",
        "from sklearn.preprocessing import OneHotEncoder\n",
        "one=OneHotEncoder()\n",
        "one.fit(re_shape)\n",
        "train_labels=one.transform(re_shape).toarray()\n",
        "\n",
        "\n",
        "re_shape1=n_testLabel.reshape(-1,1)\n",
        "one.fit(re_shape1)\n",
        "test_labels=one.transform(re_shape1).toarray()\n",
        "print('fd')"
      ],
      "execution_count": 9,
      "outputs": [
        {
          "output_type": "stream",
          "text": [
            "fd\n"
          ],
          "name": "stdout"
        },
        {
          "output_type": "stream",
          "text": [
            "/usr/local/lib/python3.6/dist-packages/sklearn/preprocessing/_encoders.py:368: FutureWarning: The handling of integer data will change in version 0.22. Currently, the categories are determined based on the range [0, max(values)], while in the future they will be determined based on the unique values.\n",
            "If you want the future behaviour and silence this warning, you can specify \"categories='auto'\".\n",
            "In case you used a LabelEncoder before this OneHotEncoder to convert the categories to integers, then you can now use the OneHotEncoder directly.\n",
            "  warnings.warn(msg, FutureWarning)\n",
            "/usr/local/lib/python3.6/dist-packages/sklearn/preprocessing/_encoders.py:368: FutureWarning: The handling of integer data will change in version 0.22. Currently, the categories are determined based on the range [0, max(values)], while in the future they will be determined based on the unique values.\n",
            "If you want the future behaviour and silence this warning, you can specify \"categories='auto'\".\n",
            "In case you used a LabelEncoder before this OneHotEncoder to convert the categories to integers, then you can now use the OneHotEncoder directly.\n",
            "  warnings.warn(msg, FutureWarning)\n"
          ],
          "name": "stderr"
        }
      ]
    },
    {
      "metadata": {
        "colab_type": "code",
        "id": "wP4OedkUcDbd",
        "outputId": "b6b1aac2-3b4b-4b52-d08f-08297dd8470b",
        "colab": {
          "base_uri": "https://localhost:8080/",
          "height": 162
        }
      },
      "cell_type": "code",
      "source": [
        "\n",
        "\n",
        "\n",
        "\n",
        "\n",
        "\n",
        "\n",
        "\n",
        "#building model by keras\n",
        "\n",
        "! pip install keras\n",
        "# import the necessary packages\n",
        "from keras.models import Sequential, load_model\n",
        "from keras.layers import Conv2D, MaxPooling2D, Dropout, Flatten, Dense, BatchNormalization\n",
        "\n",
        "from keras.layers.core import Activation\n",
        "\n",
        "from keras import backend as K\n",
        "\n",
        "\n"
      ],
      "execution_count": 10,
      "outputs": [
        {
          "output_type": "stream",
          "text": [
            "Requirement already satisfied: keras in /usr/local/lib/python3.6/dist-packages (2.2.4)\n",
            "Requirement already satisfied: keras-preprocessing>=1.0.5 in /usr/local/lib/python3.6/dist-packages (from keras) (1.0.9)\n",
            "Requirement already satisfied: numpy>=1.9.1 in /usr/local/lib/python3.6/dist-packages (from keras) (1.14.6)\n",
            "Requirement already satisfied: six>=1.9.0 in /usr/local/lib/python3.6/dist-packages (from keras) (1.11.0)\n",
            "Requirement already satisfied: h5py in /usr/local/lib/python3.6/dist-packages (from keras) (2.8.0)\n",
            "Requirement already satisfied: pyyaml in /usr/local/lib/python3.6/dist-packages (from keras) (3.13)\n",
            "Requirement already satisfied: keras-applications>=1.0.6 in /usr/local/lib/python3.6/dist-packages (from keras) (1.0.7)\n",
            "Requirement already satisfied: scipy>=0.14 in /usr/local/lib/python3.6/dist-packages (from keras) (1.1.0)\n"
          ],
          "name": "stdout"
        }
      ]
    },
    {
      "metadata": {
        "colab_type": "code",
        "id": "FVzICOzpsBly",
        "outputId": "9f469c82-ccff-4b8a-eac9-e946ffe05317",
        "colab": {
          "base_uri": "https://localhost:8080/",
          "height": 53
        }
      },
      "cell_type": "code",
      "source": [
        "\n",
        "from keras.optimizers import Adam\n",
        "from sklearn.model_selection import train_test_split\n",
        "class LeNet:\n",
        "\t@staticmethod\n",
        "\tdef build(width, height, depth, classes):\n",
        "\t\t# initialize the model\n",
        "\t\tmodel = Sequential()\n",
        "\t\tinputShape = (height, width, depth)\n",
        "\n",
        "\t\t# if we are using \"channels first\", update the input shape\n",
        "\t\tif K.image_data_format() == \"channels_first\":\n",
        "\t\t\tinputShape = (depth, height, width)\n",
        "\n",
        "\t\t# first set of CONV => RELU => POOL layers\n",
        "\t\tmodel.add(Conv2D(20, (5, 5), padding=\"same\",\n",
        "\t\t\tinput_shape=inputShape))\n",
        "\t\tmodel.add(Activation(\"relu\"))\n",
        "\t\tmodel.add(MaxPooling2D(pool_size=(2, 2), strides=(2, 2)))\n",
        "\n",
        "\t\t# second set of CONV => RELU => POOL layers\n",
        "\t\tmodel.add(Conv2D(50, (5, 5), padding=\"same\"))\n",
        "\t\tmodel.add(Activation(\"relu\"))\n",
        "\t\tmodel.add(MaxPooling2D(pool_size=(2, 2), strides=(2, 2)))\n",
        "\n",
        "\t\t# first (and only) set of FC => RELU layers\n",
        "\t\tmodel.add(Flatten())\n",
        "\t\tmodel.add(Dense(500))\n",
        "\t\tmodel.add(Activation(\"relu\"))\n",
        "\n",
        "\t\t# softmax classifier\n",
        "\t\tmodel.add(Dense(classes))\n",
        "\t\tmodel.add(Activation(\"softmax\"))\n",
        "\n",
        "\t\t# return the constructed network architecture\n",
        "\t\treturn model\n",
        "  \n",
        "print('sdfcs')\n",
        "\n",
        "(trainX, testX, trainY, testY) = train_test_split(train_images / 255.0, train_labels, test_size=0.25, random_state=42)\n",
        "\n",
        "\n",
        "from keras.optimizers import SGD, RMSprop,adam\n",
        "from keras.callbacks import ModelCheckpoint\n",
        "import tensorflow as tf \n",
        "\n",
        "output_path = \"sample_data/cp_as.ckpt\"\n",
        "checkpoint = ModelCheckpoint(output_path, monitor=\"val_loss\",save_best_only=True, verbose=1)\n",
        "callbacks = [checkpoint]\n",
        "\n",
        "#checkpoint_path =\"sample_data/cp.ckpt\"\n",
        "#cp_callback=tf.keras.callbacks.ModelCheckpoint(checkpoint_path,save_weights_only=True,verbose=1)\n",
        "\n",
        "print(\"[INFO] compiling model...\")\n",
        "opt = Adam(lr=1e-3)\n",
        "model = LeNet.build(width=28, height=28, depth=1, classes=47)\n",
        "model.compile(loss=\"categorical_crossentropy\", optimizer=opt,metrics=[\"accuracy\"])\n"
      ],
      "execution_count": 80,
      "outputs": [
        {
          "output_type": "stream",
          "text": [
            "sdfcs\n",
            "[INFO] compiling model...\n"
          ],
          "name": "stdout"
        }
      ]
    },
    {
      "metadata": {
        "colab_type": "code",
        "id": "h7ylSRQhqHN9",
        "outputId": "f52a0d41-ec4f-495a-f614-906874abb18e",
        "colab": {
          "base_uri": "https://localhost:8080/",
          "height": 798
        }
      },
      "cell_type": "code",
      "source": [
        "from keras.optimizers import SGD\n",
        "trainX = trainX.reshape(-1,28,28,1)\n",
        "testX=testX.reshape(-1,28,28,1)\n",
        "#H = model.fit(train_images.reshape(-1,28,28,1), train_labels,batch_size=120, validation_data=(trainY, testY), epochs=50, verbose=2,callbacks=[cp_callback])\n",
        "\n",
        "print('f')\n",
        "\n",
        "print(\"[INFO] training network...\")\n",
        "#H = model.fit(trainX, trainY, validation_data=(testX, testY),batch_size=128, epochs=20, callbacks=cp_callback, verbose=2)\n",
        "H = model.fit(trainX, trainY, validation_data=(testX, testY),batch_size=128, epochs=10, callbacks=callbacks, verbose=1)"
      ],
      "execution_count": 81,
      "outputs": [
        {
          "output_type": "stream",
          "text": [
            "f\n",
            "[INFO] training network...\n",
            "Train on 84600 samples, validate on 28200 samples\n",
            "Epoch 1/10\n",
            "84600/84600 [==============================] - 11s 134us/step - loss: 2.1241 - acc: 0.4190 - val_loss: 1.3189 - val_acc: 0.6162\n",
            "\n",
            "Epoch 00001: val_loss improved from inf to 1.31889, saving model to sample_data/cp_as.ckpt\n",
            "Epoch 2/10\n",
            "84600/84600 [==============================] - 10s 116us/step - loss: 1.1449 - acc: 0.6622 - val_loss: 0.9844 - val_acc: 0.7044\n",
            "\n",
            "Epoch 00002: val_loss improved from 1.31889 to 0.98440, saving model to sample_data/cp_as.ckpt\n",
            "Epoch 3/10\n",
            "84600/84600 [==============================] - 10s 118us/step - loss: 0.9106 - acc: 0.7231 - val_loss: 0.8360 - val_acc: 0.7413\n",
            "\n",
            "Epoch 00003: val_loss improved from 0.98440 to 0.83599, saving model to sample_data/cp_as.ckpt\n",
            "Epoch 4/10\n",
            "84600/84600 [==============================] - 10s 119us/step - loss: 0.7876 - acc: 0.7550 - val_loss: 0.7554 - val_acc: 0.7623\n",
            "\n",
            "Epoch 00004: val_loss improved from 0.83599 to 0.75535, saving model to sample_data/cp_as.ckpt\n",
            "Epoch 5/10\n",
            "84600/84600 [==============================] - 10s 117us/step - loss: 0.7120 - acc: 0.7761 - val_loss: 0.6939 - val_acc: 0.7822\n",
            "\n",
            "Epoch 00005: val_loss improved from 0.75535 to 0.69386, saving model to sample_data/cp_as.ckpt\n",
            "Epoch 6/10\n",
            "84600/84600 [==============================] - 10s 117us/step - loss: 0.6528 - acc: 0.7915 - val_loss: 0.6468 - val_acc: 0.7960\n",
            "\n",
            "Epoch 00006: val_loss improved from 0.69386 to 0.64681, saving model to sample_data/cp_as.ckpt\n",
            "Epoch 7/10\n",
            "84600/84600 [==============================] - 10s 117us/step - loss: 0.6076 - acc: 0.8050 - val_loss: 0.6140 - val_acc: 0.8031\n",
            "\n",
            "Epoch 00007: val_loss improved from 0.64681 to 0.61403, saving model to sample_data/cp_as.ckpt\n",
            "Epoch 8/10\n",
            "84600/84600 [==============================] - 10s 117us/step - loss: 0.5686 - acc: 0.8143 - val_loss: 0.5839 - val_acc: 0.8105\n",
            "\n",
            "Epoch 00008: val_loss improved from 0.61403 to 0.58390, saving model to sample_data/cp_as.ckpt\n",
            "Epoch 9/10\n",
            "84600/84600 [==============================] - 10s 117us/step - loss: 0.5383 - acc: 0.8235 - val_loss: 0.5574 - val_acc: 0.8211\n",
            "\n",
            "Epoch 00009: val_loss improved from 0.58390 to 0.55745, saving model to sample_data/cp_as.ckpt\n",
            "Epoch 10/10\n",
            "84600/84600 [==============================] - 10s 117us/step - loss: 0.5112 - acc: 0.8307 - val_loss: 0.5362 - val_acc: 0.8257\n",
            "\n",
            "Epoch 00010: val_loss improved from 0.55745 to 0.53618, saving model to sample_data/cp_as.ckpt\n"
          ],
          "name": "stdout"
        }
      ]
    },
    {
      "metadata": {
        "id": "g8W3z1F7twvj",
        "colab_type": "code",
        "colab": {}
      },
      "cell_type": "code",
      "source": [
        ""
      ],
      "execution_count": 0,
      "outputs": []
    },
    {
      "metadata": {
        "colab_type": "code",
        "id": "3jzqpaXP4vjv",
        "colab": {}
      },
      "cell_type": "code",
      "source": [
        "model.save_weights('sample_data/mnistCNN.h5')"
      ],
      "execution_count": 0,
      "outputs": []
    },
    {
      "metadata": {
        "colab_type": "code",
        "id": "YCESRDHT4vhw",
        "outputId": "3ac7ec40-66c3-4db9-90ac-67a21be93b9e",
        "colab": {
          "base_uri": "https://localhost:8080/",
          "height": 51
        }
      },
      "cell_type": "code",
      "source": [
        "! pip install opencv-python\n",
        "import cv2"
      ],
      "execution_count": 0,
      "outputs": [
        {
          "output_type": "stream",
          "text": [
            "Requirement already satisfied: opencv-python in /usr/local/lib/python3.6/dist-packages (3.4.5.20)\n",
            "Requirement already satisfied: numpy>=1.11.3 in /usr/local/lib/python3.6/dist-packages (from opencv-python) (1.14.6)\n"
          ],
          "name": "stdout"
        }
      ]
    },
    {
      "metadata": {
        "colab_type": "code",
        "id": "JtdHKePt9w68",
        "colab": {}
      },
      "cell_type": "code",
      "source": [
        "\n",
        "model.load_weights('sample_data/cp_as.ckpt')\n",
        "#arr=np.array(reshape_img/255).reshape(1,28,28,1)\n"
      ],
      "execution_count": 0,
      "outputs": []
    },
    {
      "metadata": {
        "id": "9CqJHSEOVfF1",
        "colab_type": "code",
        "colab": {
          "base_uri": "https://localhost:8080/",
          "height": 347
        },
        "outputId": "b619ae96-b095-4387-ff19-704f527357ae"
      },
      "cell_type": "code",
      "source": [
        "from skimage import transform,io\n",
        "from PIL import Image,ImageFilter\n",
        "import PIL.ImageOps\n",
        "# read in grey-scale\n",
        "st='sample_data/capA.jpg'\n",
        "\n",
        "im_open = Image.open(st)\n",
        "im = Image.open(st).convert('LA') #conversion to gray-scale image\n",
        "width = float(im.size[0])\n",
        "height = float(im.size[1])\n",
        "newImage = Image.new('L',(28,28),(255))\n",
        "\n",
        "\n",
        "if width > height: #check which dimension is bigger\n",
        "        #Width is bigger. Width becomes 20 pixels.\n",
        "    nheight = int(round((28.0/width*height),0)) #resize height according to ratio width\n",
        "    if (nheight == 0): #rare case but minimum is 1 pixel\n",
        "        nheight = 1  \n",
        "       # resize and sharpen\n",
        "    img = im.resize((28,nheight), Image.ANTIALIAS).filter(ImageFilter.SHARPEN)\n",
        "    wtop = int(round(((28 - nheight)/2),0)) #caculate horizontal pozition\n",
        "    newImage.paste(img, (0,wtop)) #paste resized image on white canvas\n",
        "else:\n",
        "    #Height is bigger. Heigth becomes 20 pixels. \n",
        "    nwidth = int(round((28.0/height*width),0)) #resize width according to ratio height\n",
        "    if (nwidth == 0): #rare case but minimum is 1 pixel\n",
        "        nwidth = 1\n",
        "     # resize and sharpen\n",
        "    img = im.resize((nwidth,28), Image.ANTIALIAS).filter(ImageFilter.SHARPEN)\n",
        "    wleft = int(round(((28 - nwidth)/2),0)) #caculate vertical pozition\n",
        "    newImage.paste(img, (wleft,0)) #paste resize\n",
        "    \n",
        "    #newImage= PIL.ImageOps.invert(newImage)\n",
        "    #print(np.array(newImage))\n",
        "    #print(np.array(n_testIM[100]))\n",
        "    plt.imshow(newImage)\n",
        "    plt.show()\n"
      ],
      "execution_count": 77,
      "outputs": [
        {
          "output_type": "display_data",
          "data": {
            "image/png": "[encoded data removed]",
            "text/plain": [
              "<Figure size 576x396 with 1 Axes>"
            ]
          },
          "metadata": {
            "tags": []
          }
        }
      ]
    },
    {
      "metadata": {
        "colab_type": "code",
        "id": "6XQjX1un9w4v",
        "outputId": "14cf023e-194f-4407-ad6a-665dab9dec72",
        "colab": {
          "base_uri": "https://localhost:8080/",
          "height": 402
        }
      },
      "cell_type": "code",
      "source": [
        "newImage = np.array(newImage)\n",
        "prediction=model.predict((test_images[852]).reshape(1,28,28,1))[0]\n",
        "plt.imshow(test_images[852].reshape(28,28))\n",
        "plt.show()\n",
        "print(np.argmax(prediction))\n",
        "print(test_labels[852])"
      ],
      "execution_count": 79,
      "outputs": [
        {
          "output_type": "display_data",
          "data": {
            "image/png": "[encoded data removed]",
            "text/plain": [
              "<Figure size 576x396 with 1 Axes>"
            ]
          },
          "metadata": {
            "tags": []
          }
        },
        {
          "output_type": "stream",
          "text": [
            "40\n",
            "[0. 0. 0. 0. 0. 0. 0. 0. 0. 0. 0. 0. 0. 0. 0. 1. 0. 0. 0. 0. 0. 0. 0. 0.\n",
            " 0. 0. 0. 0. 0. 0. 0. 0. 0. 0. 0. 0. 0. 0. 0. 0. 0. 0. 0. 0. 0. 0. 0.]\n"
          ],
          "name": "stdout"
        }
      ]
    },
    {
      "metadata": {
        "colab_type": "code",
        "id": "amKG8G9KB-0O",
        "colab": {}
      },
      "cell_type": "code",
      "source": [
        "labels_dict ={0:0,1:1,2:2,3:3,4:4,5:5,6:6,7:7,8:8,9:9,10:'A',11:'B',12:'C',13:'D',14:'E',15:'F',16:'G',17:'H',18:'I',19:'J',20:'K',21:'l',22:'M',23:'N',24:'O',25:'P',26:'Q',27:'R',28:'S',29:'T',30:'u',31:'V',32:'W',33:'X',34:'Y',35:'Z',36:'a',37:'b',38:'d',39:'e',40:'f',41:'g',42:'h',43:'n',44:'q',45:'r',46:'t'}"
      ],
      "execution_count": 0,
      "outputs": []
    },
    {
      "metadata": {
        "colab_type": "code",
        "id": "ONJKcI5T9wxD",
        "outputId": "8ce189f6-953c-483b-f761-e8f1a8cbce33",
        "colab": {
          "base_uri": "https://localhost:8080/",
          "height": 34
        }
      },
      "cell_type": "code",
      "source": [
        "print(\"The predicted character is {}\".format(labels_dict[np.argmax(prediction)]))"
      ],
      "execution_count": 0,
      "outputs": [
        {
          "output_type": "stream",
          "text": [
            "The predicted character is Q\n"
          ],
          "name": "stdout"
        }
      ]
    },
    {
      "metadata": {
        "colab_type": "code",
        "id": "8mlJ-XV2N6Aj",
        "colab": {}
      },
      "cell_type": "code",
      "source": [
        ""
      ],
      "execution_count": 0,
      "outputs": []
    },
    {
      "metadata": {
        "colab_type": "code",
        "id": "ShwOqIlfN598",
        "colab": {}
      },
      "cell_type": "code",
      "source": [
        "#another method"
      ],
      "execution_count": 0,
      "outputs": []
    },
    {
      "metadata": {
        "colab_type": "code",
        "id": "SP4XIs5NWMH-",
        "colab": {}
      },
      "cell_type": "code",
      "source": [
        "   from PIL import Image\n",
        "   import numpy as np"
      ],
      "execution_count": 0,
      "outputs": []
    },
    {
      "metadata": {
        "colab_type": "code",
        "id": "lW48BzrFMviW",
        "colab": {}
      },
      "cell_type": "code",
      "source": [
        "    img = Image.open('sample_data/30.jpg').convert(\"L\")\n",
        "    img = img.resize((28,28))\n",
        "    im2arr = np.array(img)\n",
        "    im2arr = im2arr.reshape(1,28,28,1)\n",
        "    "
      ],
      "execution_count": 0,
      "outputs": []
    },
    {
      "metadata": {
        "colab_type": "code",
        "id": "qgnLD1phNSM8",
        "outputId": "eb22a281-eb7a-4872-cd74-d37acd9b7a23",
        "colab": {
          "base_uri": "https://localhost:8080/",
          "height": 454
        }
      },
      "cell_type": "code",
      "source": [
        "model1=build_m(28,28,1,47)\n",
        "model1.load_weights('sample_data/mnistCNN.h5')\n",
        "prediction=model1.predict(im2arr)[0]\n",
        "print(np.argmax(prediction))"
      ],
      "execution_count": 0,
      "outputs": [
        {
          "output_type": "stream",
          "text": [
            "_________________________________________________________________\n",
            "Layer (type)                 Output Shape              Param #   \n",
            "=================================================================\n",
            "conv2d_41 (Conv2D)           (None, 24, 24, 20)        520       \n",
            "_________________________________________________________________\n",
            "max_pooling2d_41 (MaxPooling (None, 12, 12, 20)        0         \n",
            "_________________________________________________________________\n",
            "conv2d_42 (Conv2D)           (None, 12, 12, 50)        25050     \n",
            "_________________________________________________________________\n",
            "max_pooling2d_42 (MaxPooling (None, 6, 6, 50)          0         \n",
            "_________________________________________________________________\n",
            "flatten_21 (Flatten)         (None, 1800)              0         \n",
            "_________________________________________________________________\n",
            "dense_41 (Dense)             (None, 500)               900500    \n",
            "_________________________________________________________________\n",
            "activation_41 (Activation)   (None, 500)               0         \n",
            "_________________________________________________________________\n",
            "dense_42 (Dense)             (None, 47)                23547     \n",
            "_________________________________________________________________\n",
            "activation_42 (Activation)   (None, 47)                0         \n",
            "=================================================================\n",
            "Total params: 949,617\n",
            "Trainable params: 949,617\n",
            "Non-trainable params: 0\n",
            "_________________________________________________________________\n",
            "26\n"
          ],
          "name": "stdout"
        }
      ]
    },
    {
      "metadata": {
        "colab_type": "code",
        "id": "Go3vI0c6N-6o",
        "colab": {}
      },
      "cell_type": "code",
      "source": [
        ""
      ],
      "execution_count": 0,
      "outputs": []
    }
  ]
}